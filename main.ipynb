{
 "cells": [
  {
   "metadata": {},
   "cell_type": "markdown",
   "source": "## Generate data",
   "id": "6b327ee68ad428f9"
  },
  {
   "cell_type": "code",
   "id": "initial_id",
   "metadata": {
    "collapsed": true,
    "ExecuteTime": {
     "end_time": "2024-12-02T04:01:17.307125Z",
     "start_time": "2024-12-02T04:01:17.181786Z"
    }
   },
   "source": [
    "import numpy as np\n",
    "from random import uniform\n",
    "\n",
    "power_noize = 0.1\n",
    "\n",
    "X = np.linspace(0, 10, 1000)\n",
    "X_noize = np.array([i+uniform(0, power_noize) for i in X])\n",
    "A = 2.794\n",
    "B = 1.45\n",
    "y = np.array([i*A+B for i in X])"
   ],
   "outputs": [],
   "execution_count": 1
  },
  {
   "metadata": {
    "ExecuteTime": {
     "end_time": "2024-12-02T04:01:17.322812Z",
     "start_time": "2024-12-02T04:01:17.307125Z"
    }
   },
   "cell_type": "code",
   "source": "print(X[::50], X_noize[::50], sep='\\n')",
   "id": "7df0aae958c17632",
   "outputs": [
    {
     "name": "stdout",
     "output_type": "stream",
     "text": [
      "[0.         0.5005005  1.001001   1.5015015  2.002002   2.5025025\n",
      " 3.003003   3.5035035  4.004004   4.5045045  5.00500501 5.50550551\n",
      " 6.00600601 6.50650651 7.00700701 7.50750751 8.00800801 8.50850851\n",
      " 9.00900901 9.50950951]\n",
      "[0.0635804  0.53248502 1.04086302 1.51265444 2.09620716 2.55792224\n",
      " 3.06377245 3.50363125 4.08037481 4.51573499 5.0939717  5.55326942\n",
      " 6.04276035 6.54342985 7.05447111 7.55602526 8.07427621 8.52311195\n",
      " 9.06765743 9.59821724]\n"
     ]
    }
   ],
   "execution_count": 2
  },
  {
   "metadata": {
    "ExecuteTime": {
     "end_time": "2024-12-02T04:01:17.338462Z",
     "start_time": "2024-12-02T04:01:17.322812Z"
    }
   },
   "cell_type": "code",
   "source": [
    "feature_dim = X_noize.ndim\n",
    "object_count = X_noize.shape[0]"
   ],
   "id": "fd3559ad3872e191",
   "outputs": [],
   "execution_count": 3
  },
  {
   "metadata": {},
   "cell_type": "markdown",
   "source": "## Construct model",
   "id": "b5d50d5d8bf18541"
  },
  {
   "metadata": {
    "ExecuteTime": {
     "end_time": "2024-12-02T04:01:19.335661Z",
     "start_time": "2024-12-02T04:01:17.338462Z"
    }
   },
   "cell_type": "code",
   "source": [
    "from torch import nn\n",
    "\n",
    "class MyModel(nn.Module):\n",
    "    def __init__(self):\n",
    "        super().__init__()\n",
    "        self.linear_stack = nn.Sequential(\n",
    "            nn.Linear(in_features=1, out_features=1, bias=True)\n",
    "        )\n",
    "    \n",
    "    def forward(self, x):\n",
    "        x = self.linear_stack(x)\n",
    "        return self.linear_stack(x)\n"
   ],
   "id": "856221aa3f064ea5",
   "outputs": [],
   "execution_count": 4
  },
  {
   "metadata": {
    "ExecuteTime": {
     "end_time": "2024-12-02T04:01:19.351554Z",
     "start_time": "2024-12-02T04:01:19.335661Z"
    }
   },
   "cell_type": "code",
   "source": [
    "from torch import device, cuda\n",
    "\n",
    "device = device('cuda' if cuda.is_available() else 'cpu')\n",
    "print(device)"
   ],
   "id": "37ea1f8981c60945",
   "outputs": [
    {
     "name": "stdout",
     "output_type": "stream",
     "text": [
      "cpu\n"
     ]
    }
   ],
   "execution_count": 5
  },
  {
   "metadata": {
    "ExecuteTime": {
     "end_time": "2024-12-02T04:01:19.367276Z",
     "start_time": "2024-12-02T04:01:19.351554Z"
    }
   },
   "cell_type": "code",
   "source": [
    "model = MyModel().to(device)\n",
    "print(model)"
   ],
   "id": "8d66e469261a37b",
   "outputs": [
    {
     "name": "stdout",
     "output_type": "stream",
     "text": [
      "MyModel(\n",
      "  (linear_stack): Sequential(\n",
      "    (0): Linear(in_features=1, out_features=1, bias=True)\n",
      "  )\n",
      ")\n"
     ]
    }
   ],
   "execution_count": 6
  },
  {
   "metadata": {
    "ExecuteTime": {
     "end_time": "2024-12-02T04:01:19.382889Z",
     "start_time": "2024-12-02T04:01:19.367276Z"
    }
   },
   "cell_type": "code",
   "source": [
    "X_noize = X_noize.astype(np.float32)\n",
    "y = y.astype(np.float32)"
   ],
   "id": "846dc7895331e444",
   "outputs": [],
   "execution_count": 7
  },
  {
   "metadata": {
    "ExecuteTime": {
     "end_time": "2024-12-02T04:01:20.113663Z",
     "start_time": "2024-12-02T04:01:19.382889Z"
    }
   },
   "cell_type": "code",
   "source": [
    "from torch import from_numpy\n",
    "from sklearn.model_selection import train_test_split\n",
    "\n",
    "X_noize = from_numpy(X_noize).unsqueeze(1)\n",
    "y = from_numpy(y).unsqueeze(1)\n",
    "\n",
    "train_X, test_X, train_y, test_y = train_test_split(X_noize, y, test_size=0.3, random_state=42)"
   ],
   "id": "254d1165ffb88658",
   "outputs": [],
   "execution_count": 8
  },
  {
   "metadata": {
    "ExecuteTime": {
     "end_time": "2024-12-02T04:01:20.129263Z",
     "start_time": "2024-12-02T04:01:20.113663Z"
    }
   },
   "cell_type": "code",
   "source": "print(train_X[::100])",
   "id": "b6d0acfa88abb745",
   "outputs": [
    {
     "name": "stdout",
     "output_type": "stream",
     "text": [
      "tensor([[5.4816],\n",
      "        [0.2594],\n",
      "        [6.8819],\n",
      "        [0.2496],\n",
      "        [7.9815],\n",
      "        [5.6243],\n",
      "        [8.2491]])\n"
     ]
    }
   ],
   "execution_count": 9
  },
  {
   "metadata": {
    "ExecuteTime": {
     "end_time": "2024-12-02T04:01:20.144917Z",
     "start_time": "2024-12-02T04:01:20.129263Z"
    }
   },
   "cell_type": "code",
   "source": [
    "print(X_noize[::50], X_noize[::50], sep='\\n')\n",
    "print(X_noize.dtype, X_noize.dtype)\n",
    "print(X_noize.shape, X_noize.shape)\n",
    "print(X_noize.ndim, X_noize.ndim)"
   ],
   "id": "d8f4b042b510076",
   "outputs": [
    {
     "name": "stdout",
     "output_type": "stream",
     "text": [
      "tensor([[0.0636],\n",
      "        [0.5325],\n",
      "        [1.0409],\n",
      "        [1.5127],\n",
      "        [2.0962],\n",
      "        [2.5579],\n",
      "        [3.0638],\n",
      "        [3.5036],\n",
      "        [4.0804],\n",
      "        [4.5157],\n",
      "        [5.0940],\n",
      "        [5.5533],\n",
      "        [6.0428],\n",
      "        [6.5434],\n",
      "        [7.0545],\n",
      "        [7.5560],\n",
      "        [8.0743],\n",
      "        [8.5231],\n",
      "        [9.0677],\n",
      "        [9.5982]])\n",
      "tensor([[0.0636],\n",
      "        [0.5325],\n",
      "        [1.0409],\n",
      "        [1.5127],\n",
      "        [2.0962],\n",
      "        [2.5579],\n",
      "        [3.0638],\n",
      "        [3.5036],\n",
      "        [4.0804],\n",
      "        [4.5157],\n",
      "        [5.0940],\n",
      "        [5.5533],\n",
      "        [6.0428],\n",
      "        [6.5434],\n",
      "        [7.0545],\n",
      "        [7.5560],\n",
      "        [8.0743],\n",
      "        [8.5231],\n",
      "        [9.0677],\n",
      "        [9.5982]])\n",
      "torch.float32 torch.float32\n",
      "torch.Size([1000, 1]) torch.Size([1000, 1])\n",
      "2 2\n"
     ]
    }
   ],
   "execution_count": 10
  },
  {
   "metadata": {
    "ExecuteTime": {
     "end_time": "2024-12-02T04:01:20.160548Z",
     "start_time": "2024-12-02T04:01:20.144917Z"
    }
   },
   "cell_type": "code",
   "source": [
    "print(train_X[::50], train_y[::50], sep='\\n')\n",
    "print(train_X.dtype, train_y.dtype)\n",
    "print(train_X.shape, train_y.shape)\n",
    "print(train_X.ndim, train_y.ndim)"
   ],
   "id": "ae8f74f515cfc3c8",
   "outputs": [
    {
     "name": "stdout",
     "output_type": "stream",
     "text": [
      "tensor([[5.4816],\n",
      "        [1.8253],\n",
      "        [0.2594],\n",
      "        [5.9348],\n",
      "        [6.8819],\n",
      "        [1.2201],\n",
      "        [0.2496],\n",
      "        [1.9774],\n",
      "        [7.9815],\n",
      "        [6.3188],\n",
      "        [5.6243],\n",
      "        [0.3525],\n",
      "        [8.2491],\n",
      "        [8.7618]])\n",
      "tensor([[16.5807],\n",
      "        [ 6.5122],\n",
      "        [ 2.1212],\n",
      "        [17.8113],\n",
      "        [20.4682],\n",
      "        [ 4.6943],\n",
      "        [ 1.9255],\n",
      "        [ 6.8758],\n",
      "        [23.4888],\n",
      "        [18.9020],\n",
      "        [17.0002],\n",
      "        [ 2.3450],\n",
      "        [24.2439],\n",
      "        [25.9220]])\n",
      "torch.float32 torch.float32\n",
      "torch.Size([700, 1]) torch.Size([700, 1])\n",
      "2 2\n"
     ]
    }
   ],
   "execution_count": 11
  },
  {
   "metadata": {
    "ExecuteTime": {
     "end_time": "2024-12-02T04:01:21.372146Z",
     "start_time": "2024-12-02T04:01:20.160548Z"
    }
   },
   "cell_type": "code",
   "source": [
    "from torch.optim import SGD\n",
    "from torch import no_grad\n",
    "\n",
    "loss_func = nn.MSELoss()\n",
    "optimizer = SGD(model.parameters(), lr=0.0001)\n",
    "\n",
    "def train(x_for_train, y_for_train, model_for_train, epochs, loss_fn, optim):\n",
    "    for epoch in range(epochs):\n",
    "        pred = model_for_train(x_for_train)\n",
    "        loss = loss_fn(pred, y_for_train)\n",
    "        print(f\"Epoch {epoch+1}/{epochs}, Loss: {loss.item()}\")\n",
    "        loss.backward()\n",
    "        optim.step()\n",
    "        optim.zero_grad()\n",
    "\n",
    "def test(x_for_test, y_for_test, model_for_test):\n",
    "    model.eval()\n",
    "    \n",
    "    with no_grad():\n",
    "        pred = model_for_test(x_for_test)\n",
    "        test_loss = loss_func(pred, y_for_test)\n",
    "        print(test_loss)"
   ],
   "id": "433bec7b30492191",
   "outputs": [],
   "execution_count": 12
  },
  {
   "metadata": {
    "ExecuteTime": {
     "end_time": "2024-12-02T04:01:21.507374Z",
     "start_time": "2024-12-02T04:01:21.372146Z"
    }
   },
   "cell_type": "code",
   "source": "train(train_X, train_y, model, epochs=200, loss_fn=loss_func, optim=optimizer)",
   "id": "562168f3da4ad69d",
   "outputs": [
    {
     "name": "stdout",
     "output_type": "stream",
     "text": [
      "Epoch 1/200, Loss: 207.7445068359375\n",
      "Epoch 2/200, Loss: 202.03955078125\n",
      "Epoch 3/200, Loss: 196.11961364746094\n",
      "Epoch 4/200, Loss: 189.99366760253906\n",
      "Epoch 5/200, Loss: 183.6730194091797\n",
      "Epoch 6/200, Loss: 177.1716766357422\n",
      "Epoch 7/200, Loss: 170.50611877441406\n",
      "Epoch 8/200, Loss: 163.69549560546875\n",
      "Epoch 9/200, Loss: 156.76136779785156\n",
      "Epoch 10/200, Loss: 149.7277069091797\n",
      "Epoch 11/200, Loss: 142.62066650390625\n",
      "Epoch 12/200, Loss: 135.46835327148438\n",
      "Epoch 13/200, Loss: 128.30035400390625\n",
      "Epoch 14/200, Loss: 121.14752197265625\n",
      "Epoch 15/200, Loss: 114.04132843017578\n",
      "Epoch 16/200, Loss: 107.01360321044922\n",
      "Epoch 17/200, Loss: 100.09571075439453\n",
      "Epoch 18/200, Loss: 93.31829071044922\n",
      "Epoch 19/200, Loss: 86.71054077148438\n",
      "Epoch 20/200, Loss: 80.29975128173828\n",
      "Epoch 21/200, Loss: 74.11082458496094\n",
      "Epoch 22/200, Loss: 68.16592407226562\n",
      "Epoch 23/200, Loss: 62.484046936035156\n",
      "Epoch 24/200, Loss: 57.08076858520508\n",
      "Epoch 25/200, Loss: 51.96819305419922\n",
      "Epoch 26/200, Loss: 47.154693603515625\n",
      "Epoch 27/200, Loss: 42.645164489746094\n",
      "Epoch 28/200, Loss: 38.44099426269531\n",
      "Epoch 29/200, Loss: 34.540313720703125\n",
      "Epoch 30/200, Loss: 30.93825912475586\n",
      "Epoch 31/200, Loss: 27.627288818359375\n",
      "Epoch 32/200, Loss: 24.597564697265625\n",
      "Epoch 33/200, Loss: 21.837284088134766\n",
      "Epoch 34/200, Loss: 19.333152770996094\n",
      "Epoch 35/200, Loss: 17.07069206237793\n",
      "Epoch 36/200, Loss: 15.034655570983887\n",
      "Epoch 37/200, Loss: 13.209319114685059\n",
      "Epoch 38/200, Loss: 11.578822135925293\n",
      "Epoch 39/200, Loss: 10.127437591552734\n",
      "Epoch 40/200, Loss: 8.839771270751953\n",
      "Epoch 41/200, Loss: 7.700958251953125\n",
      "Epoch 42/200, Loss: 6.696819305419922\n",
      "Epoch 43/200, Loss: 5.81394624710083\n",
      "Epoch 44/200, Loss: 5.039760589599609\n",
      "Epoch 45/200, Loss: 4.362619400024414\n",
      "Epoch 46/200, Loss: 3.771758556365967\n",
      "Epoch 47/200, Loss: 3.2573556900024414\n",
      "Epoch 48/200, Loss: 2.8104565143585205\n",
      "Epoch 49/200, Loss: 2.4229724407196045\n",
      "Epoch 50/200, Loss: 2.0876197814941406\n",
      "Epoch 51/200, Loss: 1.7978906631469727\n",
      "Epoch 52/200, Loss: 1.5479861497879028\n",
      "Epoch 53/200, Loss: 1.3327556848526\n",
      "Epoch 54/200, Loss: 1.1476497650146484\n",
      "Epoch 55/200, Loss: 0.9886602163314819\n",
      "Epoch 56/200, Loss: 0.8522645831108093\n",
      "Epoch 57/200, Loss: 0.7353865504264832\n",
      "Epoch 58/200, Loss: 0.635337233543396\n",
      "Epoch 59/200, Loss: 0.5497760772705078\n",
      "Epoch 60/200, Loss: 0.4766708314418793\n",
      "Epoch 61/200, Loss: 0.4142603278160095\n",
      "Epoch 62/200, Loss: 0.3610190153121948\n",
      "Epoch 63/200, Loss: 0.3156316578388214\n",
      "Epoch 64/200, Loss: 0.27696555852890015\n",
      "Epoch 65/200, Loss: 0.24404403567314148\n",
      "Epoch 66/200, Loss: 0.21602872014045715\n",
      "Epoch 67/200, Loss: 0.19220149517059326\n",
      "Epoch 68/200, Loss: 0.171944260597229\n",
      "Epoch 69/200, Loss: 0.15472950041294098\n",
      "Epoch 70/200, Loss: 0.14010486006736755\n",
      "Epoch 71/200, Loss: 0.12768493592739105\n",
      "Epoch 72/200, Loss: 0.11713988333940506\n",
      "Epoch 73/200, Loss: 0.10818956792354584\n",
      "Epoch 74/200, Loss: 0.10059439390897751\n",
      "Epoch 75/200, Loss: 0.09414917975664139\n",
      "Epoch 76/200, Loss: 0.08868143707513809\n",
      "Epoch 77/200, Loss: 0.08404145389795303\n",
      "Epoch 78/200, Loss: 0.08010566234588623\n",
      "Epoch 79/200, Loss: 0.0767664983868599\n",
      "Epoch 80/200, Loss: 0.07393261790275574\n",
      "Epoch 81/200, Loss: 0.07152783870697021\n",
      "Epoch 82/200, Loss: 0.06948636472225189\n",
      "Epoch 83/200, Loss: 0.06775324046611786\n",
      "Epoch 84/200, Loss: 0.06628061830997467\n",
      "Epoch 85/200, Loss: 0.06502913683652878\n",
      "Epoch 86/200, Loss: 0.06396450102329254\n",
      "Epoch 87/200, Loss: 0.06305831670761108\n",
      "Epoch 88/200, Loss: 0.06228625029325485\n",
      "Epoch 89/200, Loss: 0.061627697199583054\n",
      "Epoch 90/200, Loss: 0.06106554716825485\n",
      "Epoch 91/200, Loss: 0.060584377497434616\n",
      "Epoch 92/200, Loss: 0.06017220765352249\n",
      "Epoch 93/200, Loss: 0.05981813743710518\n",
      "Epoch 94/200, Loss: 0.05951324477791786\n",
      "Epoch 95/200, Loss: 0.059250347316265106\n",
      "Epoch 96/200, Loss: 0.059022463858127594\n",
      "Epoch 97/200, Loss: 0.05882443115115166\n",
      "Epoch 98/200, Loss: 0.058651555329561234\n",
      "Epoch 99/200, Loss: 0.058500077575445175\n",
      "Epoch 100/200, Loss: 0.0583668015897274\n",
      "Epoch 101/200, Loss: 0.05824873223900795\n",
      "Epoch 102/200, Loss: 0.0581434890627861\n",
      "Epoch 103/200, Loss: 0.05804915726184845\n",
      "Epoch 104/200, Loss: 0.05796397104859352\n",
      "Epoch 105/200, Loss: 0.05788680538535118\n",
      "Epoch 106/200, Loss: 0.057816341519355774\n",
      "Epoch 107/200, Loss: 0.05775120481848717\n",
      "Epoch 108/200, Loss: 0.057690948247909546\n",
      "Epoch 109/200, Loss: 0.05763451009988785\n",
      "Epoch 110/200, Loss: 0.05758151412010193\n",
      "Epoch 111/200, Loss: 0.05753137171268463\n",
      "Epoch 112/200, Loss: 0.05748380348086357\n",
      "Epoch 113/200, Loss: 0.05743824690580368\n",
      "Epoch 114/200, Loss: 0.057394277304410934\n",
      "Epoch 115/200, Loss: 0.05735206976532936\n",
      "Epoch 116/200, Loss: 0.05731089413166046\n",
      "Epoch 117/200, Loss: 0.057270847260951996\n",
      "Epoch 118/200, Loss: 0.05723175033926964\n",
      "Epoch 119/200, Loss: 0.05719337984919548\n",
      "Epoch 120/200, Loss: 0.057155512273311615\n",
      "Epoch 121/200, Loss: 0.05711834505200386\n",
      "Epoch 122/200, Loss: 0.05708163604140282\n",
      "Epoch 123/200, Loss: 0.05704542249441147\n",
      "Epoch 124/200, Loss: 0.05700940638780594\n",
      "Epoch 125/200, Loss: 0.0569736547768116\n",
      "Epoch 126/200, Loss: 0.056938137859106064\n",
      "Epoch 127/200, Loss: 0.05690295994281769\n",
      "Epoch 128/200, Loss: 0.056867942214012146\n",
      "Epoch 129/200, Loss: 0.05683308094739914\n",
      "Epoch 130/200, Loss: 0.05679841339588165\n",
      "Epoch 131/200, Loss: 0.05676385015249252\n",
      "Epoch 132/200, Loss: 0.05672939866781235\n",
      "Epoch 133/200, Loss: 0.05669508874416351\n",
      "Epoch 134/200, Loss: 0.05666056647896767\n",
      "Epoch 135/200, Loss: 0.05662646144628525\n",
      "Epoch 136/200, Loss: 0.056592315435409546\n",
      "Epoch 137/200, Loss: 0.05655808001756668\n",
      "Epoch 138/200, Loss: 0.05652407556772232\n",
      "Epoch 139/200, Loss: 0.05649008974432945\n",
      "Epoch 140/200, Loss: 0.05645613372325897\n",
      "Epoch 141/200, Loss: 0.05642218515276909\n",
      "Epoch 142/200, Loss: 0.05638829246163368\n",
      "Epoch 143/200, Loss: 0.05635432153940201\n",
      "Epoch 144/200, Loss: 0.05632070451974869\n",
      "Epoch 145/200, Loss: 0.056286849081516266\n",
      "Epoch 146/200, Loss: 0.05625326558947563\n",
      "Epoch 147/200, Loss: 0.056219421327114105\n",
      "Epoch 148/200, Loss: 0.056185685098171234\n",
      "Epoch 149/200, Loss: 0.05615197494626045\n",
      "Epoch 150/200, Loss: 0.056118469685316086\n",
      "Epoch 151/200, Loss: 0.056084856390953064\n",
      "Epoch 152/200, Loss: 0.05605118349194527\n",
      "Epoch 153/200, Loss: 0.05601781979203224\n",
      "Epoch 154/200, Loss: 0.05598422512412071\n",
      "Epoch 155/200, Loss: 0.055950623005628586\n",
      "Epoch 156/200, Loss: 0.05591714009642601\n",
      "Epoch 157/200, Loss: 0.055883631110191345\n",
      "Epoch 158/200, Loss: 0.05585011467337608\n",
      "Epoch 159/200, Loss: 0.055816955864429474\n",
      "Epoch 160/200, Loss: 0.055783528834581375\n",
      "Epoch 161/200, Loss: 0.055750131607055664\n",
      "Epoch 162/200, Loss: 0.055716753005981445\n",
      "Epoch 163/200, Loss: 0.05568346381187439\n",
      "Epoch 164/200, Loss: 0.05565017834305763\n",
      "Epoch 165/200, Loss: 0.0556168369948864\n",
      "Epoch 166/200, Loss: 0.05558359995484352\n",
      "Epoch 167/200, Loss: 0.05555037781596184\n",
      "Epoch 168/200, Loss: 0.05551720783114433\n",
      "Epoch 169/200, Loss: 0.055483996868133545\n",
      "Epoch 170/200, Loss: 0.05545083060860634\n",
      "Epoch 171/200, Loss: 0.055417731404304504\n",
      "Epoch 172/200, Loss: 0.055384621024131775\n",
      "Epoch 173/200, Loss: 0.05535154044628143\n",
      "Epoch 174/200, Loss: 0.05531849339604378\n",
      "Epoch 175/200, Loss: 0.0552855022251606\n",
      "Epoch 176/200, Loss: 0.05525246262550354\n",
      "Epoch 177/200, Loss: 0.055219437927007675\n",
      "Epoch 178/200, Loss: 0.05518655106425285\n",
      "Epoch 179/200, Loss: 0.05515362322330475\n",
      "Epoch 180/200, Loss: 0.055120762437582016\n",
      "Epoch 181/200, Loss: 0.055087607353925705\n",
      "Epoch 182/200, Loss: 0.05505479499697685\n",
      "Epoch 183/200, Loss: 0.05502190813422203\n",
      "Epoch 184/200, Loss: 0.05498916655778885\n",
      "Epoch 185/200, Loss: 0.0549563504755497\n",
      "Epoch 186/200, Loss: 0.05492359772324562\n",
      "Epoch 187/200, Loss: 0.054890889674425125\n",
      "Epoch 188/200, Loss: 0.05485796928405762\n",
      "Epoch 189/200, Loss: 0.0548253208398819\n",
      "Epoch 190/200, Loss: 0.054792534559965134\n",
      "Epoch 191/200, Loss: 0.05475997552275658\n",
      "Epoch 192/200, Loss: 0.05472711846232414\n",
      "Epoch 193/200, Loss: 0.054694585502147675\n",
      "Epoch 194/200, Loss: 0.054661985486745834\n",
      "Epoch 195/200, Loss: 0.05462946742773056\n",
      "Epoch 196/200, Loss: 0.05459681898355484\n",
      "Epoch 197/200, Loss: 0.054564349353313446\n",
      "Epoch 198/200, Loss: 0.05453181639313698\n",
      "Epoch 199/200, Loss: 0.05449914187192917\n",
      "Epoch 200/200, Loss: 0.05446678027510643\n"
     ]
    }
   ],
   "execution_count": 13
  },
  {
   "metadata": {
    "ExecuteTime": {
     "end_time": "2024-12-02T04:01:21.523065Z",
     "start_time": "2024-12-02T04:01:21.507374Z"
    }
   },
   "cell_type": "code",
   "source": "test(test_X, test_y, model)",
   "id": "8899740bf5feb33",
   "outputs": [
    {
     "name": "stdout",
     "output_type": "stream",
     "text": [
      "tensor(0.0535)\n"
     ]
    }
   ],
   "execution_count": 14
  },
  {
   "metadata": {},
   "cell_type": "markdown",
   "source": "## Show",
   "id": "f70774cf313e903b"
  },
  {
   "metadata": {
    "ExecuteTime": {
     "end_time": "2024-12-02T04:01:22.240627Z",
     "start_time": "2024-12-02T04:01:21.523065Z"
    }
   },
   "cell_type": "code",
   "source": [
    "from matplotlib import pyplot as plt\n",
    "\n",
    "with no_grad():\n",
    "    pred = model(test_X)\n",
    "\n",
    "plt.scatter(test_X, test_y, s=1, c='b')\n",
    "plt.scatter(test_X, pred, s=1, c='r')\n",
    "plt.show()"
   ],
   "id": "3e8c707577cf3d8",
   "outputs": [
    {
     "data": {
      "text/plain": [
       "<Figure size 640x480 with 1 Axes>"
      ],
      "image/png": "[encoded data removed]"
     },
     "metadata": {},
     "output_type": "display_data"
    }
   ],
   "execution_count": 15
  },
  {
   "metadata": {
    "ExecuteTime": {
     "end_time": "2024-12-02T04:01:22.256250Z",
     "start_time": "2024-12-02T04:01:22.240627Z"
    }
   },
   "cell_type": "code",
   "source": "",
   "id": "e6d7913a9ffa7664",
   "outputs": [],
   "execution_count": 15
  }
 ],
 "metadata": {
  "kernelspec": {
   "display_name": "Python 3",
   "language": "python",
   "name": "python3"
  },
  "language_info": {
   "codemirror_mode": {
    "name": "ipython",
    "version": 2
   },
   "file_extension": ".py",
   "mimetype": "text/x-python",
   "name": "python",
   "nbconvert_exporter": "python",
   "pygments_lexer": "ipython2",
   "version": "2.7.6"
  }
 },
 "nbformat": 4,
 "nbformat_minor": 5
}
